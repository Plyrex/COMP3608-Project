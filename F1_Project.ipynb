{
 "cells": [
  {
   "cell_type": "markdown",
   "id": "2af7a643",
   "metadata": {},
   "source": [
    "Course: Comp3608 - Intelligent systems <br>\n",
    "Project: F1 racing factors predictions <br>\n",
    "Purpose: To predict ... <br>\n",
    "Problem: ..."
   ]
  },
  {
   "cell_type": "markdown",
   "id": "0e9dd509",
   "metadata": {},
   "source": [
    "Members: Eysah Ali, Saeed Khan, Zidan Timothy"
   ]
  },
  {
   "cell_type": "code",
   "execution_count": 2,
   "id": "c254e893",
   "metadata": {},
   "outputs": [],
   "source": [
    "import pandas as pd\n",
    "import csv\n",
    "import scipy"
   ]
  },
  {
   "cell_type": "code",
   "execution_count": 3,
   "id": "822e2aff",
   "metadata": {},
   "outputs": [],
   "source": [
    "df_weather = pd.read_csv(r\"weather data\\F1 Weather(2023-2018).csv\")\n",
    "\n",
    "df_drivers = pd.read_csv(r\"championship_data\\drivers.csv\")\n",
    "df_drivers_standing = pd.read_csv(r\"championship_data\\driver_standings.csv\")\n",
    "df_all_drivers = pd.read_csv(r\"drivers\\F1Drivers_Dataset.csv\", )\n",
    "\n",
    "df_constructors = pd.read_csv(r\"championship_data\\constructors.csv\")\n",
    "df_constructor_results = pd.read_csv(r\"championship_data\\constructor_results.csv\")\n",
    "df_constructor_standings = pd.read_csv(r\"championship_data\\constructor_standings.csv\")\n",
    "\n",
    "# results to link drivers and ids?\n",
    "df_results = pd.read_csv(r\"championship_data\\results.csv\")"
   ]
  },
  {
   "cell_type": "code",
   "execution_count": 4,
   "id": "21174db7",
   "metadata": {},
   "outputs": [],
   "source": [
    "# print(df_constructors)\n",
    "# print(df_constructor_results)\n",
    "# print(df_constructor_standings)"
   ]
  },
  {
   "cell_type": "markdown",
   "id": "20b637de",
   "metadata": {},
   "source": [
    "# Preprocessing"
   ]
  },
  {
   "cell_type": "code",
   "execution_count": 5,
   "id": "9ef1ee10",
   "metadata": {},
   "outputs": [
    {
     "name": "stdout",
     "output_type": "stream",
     "text": [
      "<class 'pandas.core.frame.DataFrame'>\n",
      "RangeIndex: 868 entries, 0 to 867\n",
      "Data columns (total 22 columns):\n",
      " #   Column              Non-Null Count  Dtype  \n",
      "---  ------              --------------  -----  \n",
      " 0   Driver              868 non-null    object \n",
      " 1   Nationality         868 non-null    object \n",
      " 2   Seasons             868 non-null    object \n",
      " 3   Championships       868 non-null    float64\n",
      " 4   Race_Entries        868 non-null    float64\n",
      " 5   Race_Starts         868 non-null    float64\n",
      " 6   Pole_Positions      868 non-null    float64\n",
      " 7   Race_Wins           868 non-null    float64\n",
      " 8   Podiums             868 non-null    float64\n",
      " 9   Fastest_Laps        868 non-null    float64\n",
      " 10  Points              868 non-null    float64\n",
      " 11  Active              868 non-null    bool   \n",
      " 12  Championship Years  34 non-null     object \n",
      " 13  Decade              868 non-null    int64  \n",
      " 14  Pole_Rate           868 non-null    float64\n",
      " 15  Start_Rate          868 non-null    float64\n",
      " 16  Win_Rate            868 non-null    float64\n",
      " 17  Podium_Rate         868 non-null    float64\n",
      " 18  FastLap_Rate        868 non-null    float64\n",
      " 19  Points_Per_Entry    868 non-null    float64\n",
      " 20  Years_Active        868 non-null    int64  \n",
      " 21  Champion            868 non-null    bool   \n",
      "dtypes: bool(2), float64(14), int64(2), object(4)\n",
      "memory usage: 137.4+ KB\n"
     ]
    }
   ],
   "source": [
    "df_all_drivers.info()"
   ]
  },
  {
   "cell_type": "code",
   "execution_count": 7,
   "id": "38bffb26",
   "metadata": {},
   "outputs": [],
   "source": [
    "df_all_drivers.drop(df_all_drivers[df_all_drivers['Active'] == False].index, inplace= True)\n",
    "df_actv_d = df_all_drivers.copy()"
   ]
  }
 ],
 "metadata": {
  "kernelspec": {
   "display_name": "base",
   "language": "python",
   "name": "python3"
  },
  "language_info": {
   "codemirror_mode": {
    "name": "ipython",
    "version": 3
   },
   "file_extension": ".py",
   "mimetype": "text/x-python",
   "name": "python",
   "nbconvert_exporter": "python",
   "pygments_lexer": "ipython3",
   "version": "3.11.7"
  }
 },
 "nbformat": 4,
 "nbformat_minor": 5
}
