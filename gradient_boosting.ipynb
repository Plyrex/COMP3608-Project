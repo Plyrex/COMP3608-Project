{
 "cells": [
  {
   "cell_type": "markdown",
   "metadata": {},
   "source": [
    "# Gradient Boosting Model inital attempt"
   ]
  },
  {
   "cell_type": "code",
   "execution_count": 2,
   "metadata": {},
   "outputs": [
    {
     "name": "stdout",
     "output_type": "stream",
     "text": [
      "Collecting xgboost\n",
      "  Downloading xgboost-3.0.0-py3-none-win_amd64.whl.metadata (2.1 kB)\n",
      "Requirement already satisfied: numpy in c:\\users\\saeed\\anaconda3\\lib\\site-packages (from xgboost) (1.26.4)\n",
      "Requirement already satisfied: scipy in c:\\users\\saeed\\anaconda3\\lib\\site-packages (from xgboost) (1.13.1)\n",
      "Downloading xgboost-3.0.0-py3-none-win_amd64.whl (150.0 MB)\n",
      "   ---------------------------------------- 0.0/150.0 MB ? eta -:--:--\n",
      "   ---------------------------------------- 0.3/150.0 MB ? eta -:--:--\n",
      "   ---------------------------------------- 1.8/150.0 MB 6.7 MB/s eta 0:00:23\n",
      "   - -------------------------------------- 3.9/150.0 MB 8.4 MB/s eta 0:00:18\n",
      "   - -------------------------------------- 6.0/150.0 MB 9.0 MB/s eta 0:00:16\n",
      "   -- ------------------------------------- 8.7/150.0 MB 9.8 MB/s eta 0:00:15\n",
      "   -- ------------------------------------- 10.5/150.0 MB 9.6 MB/s eta 0:00:15\n",
      "   --- ------------------------------------ 12.6/150.0 MB 9.6 MB/s eta 0:00:15\n",
      "   --- ------------------------------------ 14.4/150.0 MB 9.5 MB/s eta 0:00:15\n",
      "   ---- ----------------------------------- 16.3/150.0 MB 9.4 MB/s eta 0:00:15\n",
      "   ----- ---------------------------------- 18.9/150.0 MB 9.6 MB/s eta 0:00:14\n",
      "   ----- ---------------------------------- 21.0/150.0 MB 9.7 MB/s eta 0:00:14\n",
      "   ------ --------------------------------- 23.6/150.0 MB 10.0 MB/s eta 0:00:13\n",
      "   ------ --------------------------------- 26.2/150.0 MB 10.1 MB/s eta 0:00:13\n",
      "   ------- -------------------------------- 29.1/150.0 MB 10.4 MB/s eta 0:00:12\n",
      "   -------- ------------------------------- 32.0/150.0 MB 10.6 MB/s eta 0:00:12\n",
      "   --------- ------------------------------ 35.4/150.0 MB 10.9 MB/s eta 0:00:11\n",
      "   --------- ------------------------------ 37.5/150.0 MB 11.1 MB/s eta 0:00:11\n",
      "   ----------- ---------------------------- 41.9/150.0 MB 11.4 MB/s eta 0:00:10\n",
      "   ------------ --------------------------- 45.4/150.0 MB 11.7 MB/s eta 0:00:09\n",
      "   ------------ --------------------------- 48.5/150.0 MB 11.9 MB/s eta 0:00:09\n",
      "   ------------- -------------------------- 51.4/150.0 MB 12.1 MB/s eta 0:00:09\n",
      "   -------------- ------------------------- 53.2/150.0 MB 12.1 MB/s eta 0:00:09\n",
      "   --------------- ------------------------ 57.7/150.0 MB 12.2 MB/s eta 0:00:08\n",
      "   ---------------- ----------------------- 60.6/150.0 MB 12.3 MB/s eta 0:00:08\n",
      "   ---------------- ----------------------- 63.7/150.0 MB 12.4 MB/s eta 0:00:07\n",
      "   ----------------- ---------------------- 66.6/150.0 MB 12.4 MB/s eta 0:00:07\n",
      "   ------------------ --------------------- 68.7/150.0 MB 12.4 MB/s eta 0:00:07\n",
      "   ------------------- -------------------- 71.8/150.0 MB 12.5 MB/s eta 0:00:07\n",
      "   -------------------- ------------------- 75.2/150.0 MB 12.6 MB/s eta 0:00:06\n",
      "   -------------------- ------------------- 78.1/150.0 MB 12.7 MB/s eta 0:00:06\n",
      "   --------------------- ------------------ 81.0/150.0 MB 12.7 MB/s eta 0:00:06\n",
      "   ---------------------- ----------------- 84.4/150.0 MB 12.8 MB/s eta 0:00:06\n",
      "   ----------------------- ---------------- 87.6/150.0 MB 12.9 MB/s eta 0:00:05\n",
      "   ------------------------ --------------- 90.7/150.0 MB 12.9 MB/s eta 0:00:05\n",
      "   ------------------------- -------------- 93.8/150.0 MB 13.0 MB/s eta 0:00:05\n",
      "   ------------------------- -------------- 97.0/150.0 MB 13.0 MB/s eta 0:00:05\n",
      "   -------------------------- ------------- 99.9/150.0 MB 13.1 MB/s eta 0:00:04\n",
      "   -------------------------- ------------ 103.5/150.0 MB 13.2 MB/s eta 0:00:04\n",
      "   --------------------------- ----------- 107.2/150.0 MB 13.3 MB/s eta 0:00:04\n",
      "   ---------------------------- ---------- 110.6/150.0 MB 13.4 MB/s eta 0:00:03\n",
      "   ----------------------------- --------- 113.8/150.0 MB 13.4 MB/s eta 0:00:03\n",
      "   ------------------------------ -------- 117.2/150.0 MB 13.5 MB/s eta 0:00:03\n",
      "   ------------------------------- ------- 121.1/150.0 MB 13.6 MB/s eta 0:00:03\n",
      "   -------------------------------- ------ 124.0/150.0 MB 13.6 MB/s eta 0:00:02\n",
      "   --------------------------------- ----- 127.4/150.0 MB 13.6 MB/s eta 0:00:02\n",
      "   --------------------------------- ----- 130.5/150.0 MB 13.6 MB/s eta 0:00:02\n",
      "   ---------------------------------- ---- 134.2/150.0 MB 13.7 MB/s eta 0:00:02\n",
      "   ----------------------------------- --- 137.4/150.0 MB 13.8 MB/s eta 0:00:01\n",
      "   ------------------------------------ -- 140.5/150.0 MB 13.8 MB/s eta 0:00:01\n",
      "   ------------------------------------- - 143.9/150.0 MB 13.8 MB/s eta 0:00:01\n",
      "   --------------------------------------  147.1/150.0 MB 13.9 MB/s eta 0:00:01\n",
      "   --------------------------------------  149.9/150.0 MB 13.9 MB/s eta 0:00:01\n",
      "   --------------------------------------  149.9/150.0 MB 13.9 MB/s eta 0:00:01\n",
      "   --------------------------------------- 150.0/150.0 MB 13.4 MB/s eta 0:00:00\n",
      "Installing collected packages: xgboost\n",
      "Successfully installed xgboost-3.0.0\n"
     ]
    }
   ],
   "source": [
    "!pip install xgboost"
   ]
  },
  {
   "cell_type": "code",
   "execution_count": 4,
   "metadata": {},
   "outputs": [],
   "source": [
    "import xgboost as xgb\n",
    "import pandas as pd\n",
    "from sklearn.model_selection import train_test_split\n",
    "from sklearn.metrics import accuracy_score, recall_score\n",
    "from sklearn.datasets import make_classification"
   ]
  },
  {
   "cell_type": "code",
   "execution_count": null,
   "metadata": {},
   "outputs": [],
   "source": [
    "df= pd.read_csv(\"test.csv\")"
   ]
  },
  {
   "cell_type": "code",
   "execution_count": null,
   "metadata": {},
   "outputs": [],
   "source": [
    "X_train, X_test, y_train, y_test= train_test_split()"
   ]
  },
  {
   "cell_type": "code",
   "execution_count": null,
   "metadata": {},
   "outputs": [],
   "source": [
    "xgbModel= xgb.XGBClassifier();"
   ]
  },
  {
   "cell_type": "code",
   "execution_count": null,
   "metadata": {},
   "outputs": [],
   "source": [
    "xgbModel.fit(X_train, y_train)"
   ]
  },
  {
   "cell_type": "code",
   "execution_count": null,
   "metadata": {},
   "outputs": [],
   "source": [
    "xgbYPred= xgbModel.predict(X_test)"
   ]
  },
  {
   "cell_type": "code",
   "execution_count": null,
   "metadata": {},
   "outputs": [],
   "source": [
    "print(accuracy_score(y_test, xgbYPred))\n",
    "print(recall_score(y_test, xgbYPred))"
   ]
  }
 ],
 "metadata": {
  "kernelspec": {
   "display_name": "base",
   "language": "python",
   "name": "python3"
  },
  "language_info": {
   "codemirror_mode": {
    "name": "ipython",
    "version": 3
   },
   "file_extension": ".py",
   "mimetype": "text/x-python",
   "name": "python",
   "nbconvert_exporter": "python",
   "pygments_lexer": "ipython3",
   "version": "3.12.7"
  }
 },
 "nbformat": 4,
 "nbformat_minor": 2
}
